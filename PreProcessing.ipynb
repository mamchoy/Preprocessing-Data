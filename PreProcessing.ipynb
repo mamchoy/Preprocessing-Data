{
  "nbformat": 4,
  "nbformat_minor": 0,
  "metadata": {
    "colab": {
      "name": "PreProcessing.ipynb",
      "provenance": []
    },
    "kernelspec": {
      "name": "python3",
      "display_name": "Python 3"
    },
    "language_info": {
      "name": "python"
    }
  },
  "cells": [
    {
      "cell_type": "code",
      "metadata": {
        "id": "7LdWTqjTZI6D"
      },
      "source": [
        "import numpy as np\n",
        "import matplotlib.pyplot as plt \n",
        "import pandas as pd\n"
      ],
      "execution_count": 8,
      "outputs": []
    },
    {
      "cell_type": "markdown",
      "metadata": {
        "id": "gYrWtTlOeKwD"
      },
      "source": [
        "numpy merupakan library python yang digunakan untuk komputasi matriks.\n",
        "matplotlib merupakan library untuk presentasi data berupa grafik atau plot.\n"
      ]
    },
    {
      "cell_type": "code",
      "metadata": {
        "id": "HEjl5WgcfAOQ"
      },
      "source": [
        "dataset = pd.read_csv('data.csv')\n",
        "x = dataset.iloc[:, :-1].values\n",
        "y = dataset.iloc[:, -1].values"
      ],
      "execution_count": 10,
      "outputs": []
    },
    {
      "cell_type": "code",
      "metadata": {
        "colab": {
          "base_uri": "https://localhost:8080/"
        },
        "id": "61Vq0aw0gMBT",
        "outputId": "4f3d4ab3-7ae3-45af-9687-169ff13eb795"
      },
      "source": [
        "print(x)"
      ],
      "execution_count": 12,
      "outputs": [
        {
          "output_type": "stream",
          "text": [
            "[['Roti' 44.0 20000.0]\n",
            " ['Pisang' 27.0 50000.0]\n",
            " ['Keju' 30.0 45000.0]\n",
            " ['Pisang' 38.0 25000.0]\n",
            " ['Keju' 40.0 nan]\n",
            " ['Roti' 35.0 15000.0]\n",
            " ['Pisang' nan 35000.0]\n",
            " ['Roti' 48.0 55000.0]\n",
            " ['Keju' 50.0 10000.0]\n",
            " ['Roti' 37.0 40000.0]]\n"
          ],
          "name": "stdout"
        }
      ]
    },
    {
      "cell_type": "code",
      "metadata": {
        "colab": {
          "base_uri": "https://localhost:8080/"
        },
        "id": "wFE9tCmhhoY_",
        "outputId": "70da580c-d8f0-47e6-e0d1-dc2cb78bffc9"
      },
      "source": [
        "print(y)"
      ],
      "execution_count": 13,
      "outputs": [
        {
          "output_type": "stream",
          "text": [
            "['No' 'Yes' 'No' 'No' 'Yes' 'Yes' 'No' 'Yes' 'No' 'Yes']\n"
          ],
          "name": "stdout"
        }
      ]
    },
    {
      "cell_type": "code",
      "metadata": {
        "id": "-4RzDY-EhrmF"
      },
      "source": [
        "from sklearn.impute import SimpleImputer\n",
        "imputer = SimpleImputer(missing_values=np.nan, strategy='mean')\n",
        "imputer.fit(x[:, 1:3])\n",
        "x[:, 1:3] = imputer.transform(x[:, 1:3])"
      ],
      "execution_count": 17,
      "outputs": []
    },
    {
      "cell_type": "code",
      "metadata": {
        "colab": {
          "base_uri": "https://localhost:8080/"
        },
        "id": "K57T1Z70iyNy",
        "outputId": "a320b479-d606-4b6d-92fc-78b423439a4e"
      },
      "source": [
        "print(x)"
      ],
      "execution_count": 18,
      "outputs": [
        {
          "output_type": "stream",
          "text": [
            "[['Roti' 44.0 20000.0]\n",
            " ['Pisang' 27.0 50000.0]\n",
            " ['Keju' 30.0 45000.0]\n",
            " ['Pisang' 38.0 25000.0]\n",
            " ['Keju' 40.0 32777.77777777778]\n",
            " ['Roti' 35.0 15000.0]\n",
            " ['Pisang' 38.77777777777778 35000.0]\n",
            " ['Roti' 48.0 55000.0]\n",
            " ['Keju' 50.0 10000.0]\n",
            " ['Roti' 37.0 40000.0]]\n"
          ],
          "name": "stdout"
        }
      ]
    },
    {
      "cell_type": "code",
      "metadata": {
        "id": "1H0Cb2C_kf8-"
      },
      "source": [
        "from sklearn.compose import ColumnTransformer\n",
        "from sklearn.preprocessing import OneHotEncoder\n",
        "ct = ColumnTransformer(transformers=[('encoder', OneHotEncoder(), [0])], remainder='passthrough')\n",
        "x = np.array(ct.fit_transform(x))"
      ],
      "execution_count": 23,
      "outputs": []
    },
    {
      "cell_type": "code",
      "metadata": {
        "colab": {
          "base_uri": "https://localhost:8080/"
        },
        "id": "6K_ziCJfk495",
        "outputId": "ff38c986-61ff-48f1-f312-26b58a244643"
      },
      "source": [
        "print(x)"
      ],
      "execution_count": 24,
      "outputs": [
        {
          "output_type": "stream",
          "text": [
            "[[0.0 0.0 1.0 44.0 20000.0]\n",
            " [0.0 1.0 0.0 27.0 50000.0]\n",
            " [1.0 0.0 0.0 30.0 45000.0]\n",
            " [0.0 1.0 0.0 38.0 25000.0]\n",
            " [1.0 0.0 0.0 40.0 32777.77777777778]\n",
            " [0.0 0.0 1.0 35.0 15000.0]\n",
            " [0.0 1.0 0.0 38.77777777777778 35000.0]\n",
            " [0.0 0.0 1.0 48.0 55000.0]\n",
            " [1.0 0.0 0.0 50.0 10000.0]\n",
            " [0.0 0.0 1.0 37.0 40000.0]]\n"
          ],
          "name": "stdout"
        }
      ]
    },
    {
      "cell_type": "code",
      "metadata": {
        "id": "YHqskZQQmg-H"
      },
      "source": [
        "from sklearn.preprocessing import LabelEncoder\n",
        "le = LabelEncoder()\n",
        "y = le.fit_transform(y)"
      ],
      "execution_count": 25,
      "outputs": []
    },
    {
      "cell_type": "code",
      "metadata": {
        "colab": {
          "base_uri": "https://localhost:8080/"
        },
        "id": "KyzjETWqm0sB",
        "outputId": "b68757a2-c6d9-49e6-dce0-5097ecc870f1"
      },
      "source": [
        "print(y)"
      ],
      "execution_count": 26,
      "outputs": [
        {
          "output_type": "stream",
          "text": [
            "[0 1 0 0 1 1 0 1 0 1]\n"
          ],
          "name": "stdout"
        }
      ]
    },
    {
      "cell_type": "code",
      "metadata": {
        "id": "zybOPUfSnMNq"
      },
      "source": [
        "from sklearn.model_selection import train_test_split\n",
        "x_train, x_test, y_train, y_test = train_test_split(x, y, test_size=0.2, random_state=1)"
      ],
      "execution_count": 27,
      "outputs": []
    },
    {
      "cell_type": "code",
      "metadata": {
        "colab": {
          "base_uri": "https://localhost:8080/"
        },
        "id": "JMrAS_BTqAR2",
        "outputId": "41751207-3985-4dbf-c98b-e403a22b0dca"
      },
      "source": [
        "print(x_train)"
      ],
      "execution_count": 28,
      "outputs": [
        {
          "output_type": "stream",
          "text": [
            "[[0.0 1.0 0.0 38.77777777777778 35000.0]\n",
            " [1.0 0.0 0.0 40.0 32777.77777777778]\n",
            " [0.0 0.0 1.0 44.0 20000.0]\n",
            " [0.0 1.0 0.0 38.0 25000.0]\n",
            " [0.0 1.0 0.0 27.0 50000.0]\n",
            " [0.0 0.0 1.0 48.0 55000.0]\n",
            " [1.0 0.0 0.0 50.0 10000.0]\n",
            " [0.0 0.0 1.0 35.0 15000.0]]\n"
          ],
          "name": "stdout"
        }
      ]
    },
    {
      "cell_type": "code",
      "metadata": {
        "colab": {
          "base_uri": "https://localhost:8080/"
        },
        "id": "l09jwB14qMiL",
        "outputId": "cd2e1174-704b-4f68-b6ee-29d1bde142c4"
      },
      "source": [
        "print(x_test)"
      ],
      "execution_count": 29,
      "outputs": [
        {
          "output_type": "stream",
          "text": [
            "[[1.0 0.0 0.0 30.0 45000.0]\n",
            " [0.0 0.0 1.0 37.0 40000.0]]\n"
          ],
          "name": "stdout"
        }
      ]
    },
    {
      "cell_type": "code",
      "metadata": {
        "colab": {
          "base_uri": "https://localhost:8080/"
        },
        "id": "ZrF9t0x1qRkO",
        "outputId": "9908076f-08a9-40a6-c712-4b6d6b1695bf"
      },
      "source": [
        "print(y_train)"
      ],
      "execution_count": 30,
      "outputs": [
        {
          "output_type": "stream",
          "text": [
            "[0 1 0 0 1 1 0 1]\n"
          ],
          "name": "stdout"
        }
      ]
    },
    {
      "cell_type": "code",
      "metadata": {
        "colab": {
          "base_uri": "https://localhost:8080/"
        },
        "id": "INRS7W4iqYvW",
        "outputId": "bad09ca9-c7da-409a-9cc8-f188ad87b0e7"
      },
      "source": [
        "print(y_test)"
      ],
      "execution_count": 31,
      "outputs": [
        {
          "output_type": "stream",
          "text": [
            "[0 1]\n"
          ],
          "name": "stdout"
        }
      ]
    },
    {
      "cell_type": "code",
      "metadata": {
        "id": "Cku0mg2NqpNR"
      },
      "source": [
        "from sklearn.preprocessing import StandardScaler\n",
        "sc = StandardScaler()\n",
        "x_train[:, 3:] = sc.fit_transform(x_train[:, 3:])\n",
        "x_test[:, 3:] = sc.transform(x_test[:, 3:])"
      ],
      "execution_count": 35,
      "outputs": []
    },
    {
      "cell_type": "code",
      "metadata": {
        "colab": {
          "base_uri": "https://localhost:8080/"
        },
        "id": "P_xgRnnJsKzN",
        "outputId": "615c6bf8-ffd1-4c3e-dfdb-7f03a4b7b2c0"
      },
      "source": [
        "print(x_train)"
      ],
      "execution_count": 36,
      "outputs": [
        {
          "output_type": "stream",
          "text": [
            "[[0.0 1.0 0.0 -0.19159184384578545 0.3096050863878049]\n",
            " [1.0 0.0 0.0 -0.014117293757057777 0.16173400035183857]\n",
            " [0.0 0.0 1.0 0.566708506533324 -0.6885247443549691]\n",
            " [0.0 1.0 0.0 -0.30453019390224867 -0.3558148007740445]\n",
            " [0.0 1.0 0.0 -1.9018011447007988 1.307734917130579]\n",
            " [0.0 0.0 1.0 1.1475343068237058 1.6404448607115036]\n",
            " [1.0 0.0 0.0 1.4379472069688968 -1.3539446315168184]\n",
            " [0.0 0.0 1.0 -0.7401495441200351 -1.0212346879358938]]\n"
          ],
          "name": "stdout"
        }
      ]
    },
    {
      "cell_type": "code",
      "metadata": {
        "colab": {
          "base_uri": "https://localhost:8080/"
        },
        "id": "oGPVr7z0sRrX",
        "outputId": "adbc4edb-d066-40a5-fe85-df43be3e7ca2"
      },
      "source": [
        "print(x_test)"
      ],
      "execution_count": 37,
      "outputs": [
        {
          "output_type": "stream",
          "text": [
            "[[1.0 0.0 0.0 -1.4661817944830124 0.9750249735496542]\n",
            " [0.0 0.0 1.0 -0.44973664397484414 0.6423150299687296]]\n"
          ],
          "name": "stdout"
        }
      ]
    }
  ]
}