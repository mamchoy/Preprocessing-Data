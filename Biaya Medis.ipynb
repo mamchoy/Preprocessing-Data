{
  "nbformat": 4,
  "nbformat_minor": 0,
  "metadata": {
    "colab": {
      "name": "BiayaMedis.ipynb",
      "provenance": [],
      "collapsed_sections": []
    },
    "kernelspec": {
      "name": "python3",
      "display_name": "Python 3"
    },
    "language_info": {
      "name": "python"
    }
  },
  "cells": [
    {
      "cell_type": "markdown",
      "metadata": {
        "id": "lT-fCjA7LfJW"
      },
      "source": [
        "age: usia penerima ansuransi ini\n",
        "\n",
        "sex: Jenis Kelamin perempuan/laki-laki\n",
        "\n",
        "bmi: Indeks massa tubuh, memberikan pemahaman tentang tubuh mulai dari berat badan, tinggi badan, dan berat ideal\n",
        "\n",
        "Childern: Jumlah anak yang ditanggung oleh asuransi kesehatan / Jumlah tanggungan\n",
        "\n",
        "smoker : Perokok\n",
        "\n",
        "Region : Daerah penerima ansuransi ini di US\n",
        "\n",
        "Charges : Biaya medis individu yang ditagih oleh asuransi kesehatan"
      ]
    },
    {
      "cell_type": "markdown",
      "metadata": {
        "id": "_N0w6CkfMy6G"
      },
      "source": [
        "1) Pertama kita memanggil data set yang telah kita cari tadi ke dalam codingan, dengan menuliskan nama dataset nya"
      ]
    },
    {
      "cell_type": "code",
      "metadata": {
        "colab": {
          "base_uri": "https://localhost:8080/"
        },
        "id": "hqrJAQH9cit6",
        "outputId": "70cf3c2c-672e-47a0-bfd8-8cecc912902b"
      },
      "source": [
        "import pandas as pd\n",
        "import numpy as np\n",
        "\n",
        "df = pd.read_csv(\"insurance.csv\")\n",
        "print(df.head())\n",
        "print(f\"Shape of data: {df.shape}\")"
      ],
      "execution_count": 8,
      "outputs": [
        {
          "output_type": "stream",
          "text": [
            "   age     sex     bmi  children smoker     region      charges\n",
            "0   19  female  27.900         0    yes  southwest  16884.92400\n",
            "1   18    male  33.770         1     no  southeast   1725.55230\n",
            "2   28    male  33.000         3     no  southeast   4449.46200\n",
            "3   33    male  22.705         0     no  northwest  21984.47061\n",
            "4   32    male  28.880         0     no  northwest   3866.85520\n",
            "Shape of data: (1338, 7)\n"
          ],
          "name": "stdout"
        }
      ]
    },
    {
      "cell_type": "markdown",
      "metadata": {
        "id": "TBr-joFIPCG0"
      },
      "source": [
        "2) lalu kita menngecek ada apa saja di colom nya dengan :\n"
      ]
    },
    {
      "cell_type": "code",
      "metadata": {
        "colab": {
          "base_uri": "https://localhost:8080/"
        },
        "id": "bLIIpLwtha92",
        "outputId": "484be567-0a8d-4f2f-95d3-4079c40b41e7"
      },
      "source": [
        "df.isnull().sum()"
      ],
      "execution_count": 3,
      "outputs": [
        {
          "output_type": "execute_result",
          "data": {
            "text/plain": [
              "age         0\n",
              "sex         0\n",
              "bmi         0\n",
              "children    0\n",
              "smoker      0\n",
              "region      0\n",
              "charges     0\n",
              "dtype: int64"
            ]
          },
          "metadata": {
            "tags": []
          },
          "execution_count": 3
        }
      ]
    },
    {
      "cell_type": "markdown",
      "metadata": {
        "id": "L_cZqHatPOD7"
      },
      "source": [
        "3) lalu kita coba mengecek salah satu dari data nya : contoh Region\n",
        "\n",
        "disini juga ada jumlah orang yang berada di kota tersebut"
      ]
    },
    {
      "cell_type": "code",
      "metadata": {
        "colab": {
          "base_uri": "https://localhost:8080/"
        },
        "id": "_W0zZ1wnOlAf",
        "outputId": "3b76ae63-b023-4cc1-9ce2-e52cb9b21fc7"
      },
      "source": [
        "df['region'].value_counts()"
      ],
      "execution_count": 10,
      "outputs": [
        {
          "output_type": "execute_result",
          "data": {
            "text/plain": [
              "southeast    364\n",
              "southwest    325\n",
              "northwest    325\n",
              "northeast    324\n",
              "Name: region, dtype: int64"
            ]
          },
          "metadata": {
            "tags": []
          },
          "execution_count": 10
        }
      ]
    },
    {
      "cell_type": "markdown",
      "metadata": {
        "id": "Q77bwB5UQYd-"
      },
      "source": [
        "4) Lalu kita contoh lagi \n",
        "\n",
        "dan bisa dilihat juga jumlah orang yang merokok dengan yang tidak merokok."
      ]
    },
    {
      "cell_type": "code",
      "metadata": {
        "colab": {
          "base_uri": "https://localhost:8080/"
        },
        "id": "yAi9k-EAQDW8",
        "outputId": "9cbad3b8-c0d2-46c6-873e-852a035848b7"
      },
      "source": [
        "print(\"Smoker Value Distribution\")\n",
        "print(df.smoker.value_counts())"
      ],
      "execution_count": 11,
      "outputs": [
        {
          "output_type": "stream",
          "text": [
            "Smoker Value Distribution\n",
            "no     1064\n",
            "yes     274\n",
            "Name: smoker, dtype: int64\n"
          ],
          "name": "stdout"
        }
      ]
    },
    {
      "cell_type": "markdown",
      "metadata": {
        "id": "9IJpmEsTRWXV"
      },
      "source": [
        "5) lagi kita contohkan data yang gender, bisa dilihat ada 676 laki-laki\n",
        "dan 662 perempuan."
      ]
    },
    {
      "cell_type": "code",
      "metadata": {
        "colab": {
          "base_uri": "https://localhost:8080/"
        },
        "id": "3F68YzrbQMYh",
        "outputId": "35672280-d6a1-4f6e-a28b-4585b71f7360"
      },
      "source": [
        "print(\"Sex Value Distribution\")\n",
        "print(df.sex.value_counts())\n"
      ],
      "execution_count": 12,
      "outputs": [
        {
          "output_type": "stream",
          "text": [
            "Sex Value Distribution\n",
            "male      676\n",
            "female    662\n",
            "Name: sex, dtype: int64\n"
          ],
          "name": "stdout"
        }
      ]
    },
    {
      "cell_type": "markdown",
      "metadata": {
        "id": "OXeMUxJRRfB1"
      },
      "source": [
        "6) lalu kita akan memunculkan beberapa grafik dari data diatas\n",
        "\n",
        "age\n",
        "bmi\n",
        "childern\n",
        "charges"
      ]
    },
    {
      "cell_type": "code",
      "metadata": {
        "colab": {
          "base_uri": "https://localhost:8080/",
          "height": 407
        },
        "id": "CgV05Odwh1aR",
        "outputId": "2a94ecec-5986-479e-8af8-e53b3edd28b9"
      },
      "source": [
        "import matplotlib.pyplot as plt\n",
        "import seaborn as sns\n",
        "%matplotlib inline\n",
        "\n",
        "\n",
        "plt.figure();\n",
        "\n",
        "df[['age', 'bmi', 'children', 'charges']].diff().hist(color=\"r\", alpha=0.8, bins=50, figsize=(12, 6));"
      ],
      "execution_count": 4,
      "outputs": [
        {
          "output_type": "display_data",
          "data": {
            "text/plain": [
              "<Figure size 432x288 with 0 Axes>"
            ]
          },
          "metadata": {
            "tags": []
          }
        },
        {
          "output_type": "display_data",
          "data": {
            "image/png": "[encoded data removed]",
            "text/plain": [
              "<Figure size 864x432 with 4 Axes>"
            ]
          },
          "metadata": {
            "tags": [],
            "needs_background": "light"
          }
        }
      ]
    }
  ]
}